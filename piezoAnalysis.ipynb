{
 "cells": [
  {
   "cell_type": "code",
   "execution_count": 3,
   "id": "8d1bcd95",
   "metadata": {},
   "outputs": [],
   "source": [
    "import seaborn as sns\n",
    "import matplotlib.pyplot as plt\n",
    "import pandas as pd\n",
    "import numpy as np\n",
    "import random\n",
    "import csv"
   ]
  },
  {
   "cell_type": "code",
   "execution_count": null,
   "id": "044ec276",
   "metadata": {},
   "outputs": [],
   "source": [
    "# TODO: Alter function depending on format and interval of true data\n",
    "def reduce_resolution(data, interval=1):\n",
    "    \n",
    "    interval_values = {}\n",
    "\n",
    "    for timestamp, value in data:\n",
    "        # Find which interval this timestamp belongs to\n",
    "        interval_index = int(timestamp // interval)\n",
    "\n",
    "        # If not in add it\n",
    "        if interval_index not in interval_values:\n",
    "            interval_values[interval_index] = value\n",
    "        else:\n",
    "            # If any value is 1, set the interval to 1\n",
    "            interval_values[interval_index] = max(interval_values[interval_index], value)\n",
    "\n",
    "    # Convert to sorted list of (timestamp, value) pairs\n",
    "    reduced_data = []\n",
    "    for interval_index in sorted(interval_values):\n",
    "        reduced_timestamp = interval_index * interval\n",
    "        reduced_value = interval_values[interval_index]\n",
    "        reduced_data.append((reduced_timestamp, reduced_value))\n",
    "\n",
    "    return reduced_data\n",
    "\n",
    "def compute_confusion_matrix(sensor_data, true_data):\n",
    "    # Assume sensor_data and true_data are same size and interval\n",
    "    TP = FP = TN = FN = 0\n",
    "\n",
    "    for i in range(len(sensor_data)):\n",
    "        sensor_val = sensor_data[i][1]\n",
    "        true_val = true_data[i][1]\n",
    "        if sensor_val == 1 and true_val == 1:\n",
    "            TP += 1\n",
    "        elif sensor_val == 1 and true_val == 0:\n",
    "            FP += 1\n",
    "        elif sensor_val == 0 and true_val == 0:\n",
    "            TN += 1\n",
    "        elif sensor_val == 0 and true_val == 1:\n",
    "            FN += 1\n",
    "\n",
    "    confusion_matrix = np.array([\n",
    "        [TP, FP],\n",
    "        [FN, TN]\n",
    "    ])\n",
    "    return confusion_matrix\n",
    "\n",
    "# compute accuracy and positive predictive value\n",
    "def compute_metrics(confusion_matrix):\n",
    "    TP = confusion_matrix[0, 0]\n",
    "    FP = confusion_matrix[0, 1]\n",
    "    FN = confusion_matrix[1, 0]\n",
    "    TN = confusion_matrix[1, 1]\n",
    "\n",
    "    accuracy = (TP + TN) / (TP + TN + FP + FN) if (TP + TN + FP + FN) > 0 else 0\n",
    "    ppv = TP / (TP + FP) if (TP + FP) > 0 else 0\n",
    "\n",
    "    return accuracy, ppv\n"
   ]
  },
  {
   "cell_type": "markdown",
   "id": "b0d82edd",
   "metadata": {},
   "source": [
    "# Generate Synthetic Data for testing while circuit still being built"
   ]
  },
  {
   "cell_type": "code",
   "execution_count": 5,
   "id": "9e9bf129",
   "metadata": {},
   "outputs": [
    {
     "name": "stdout",
     "output_type": "stream",
     "text": [
      "Sample data saved to 'test_data.csv'\n"
     ]
    }
   ],
   "source": [
    "# !----------------- Generate synthetic data -----------------!\n",
    "\n",
    "# Simulate 10 seconds worth of data with 1000 samples\n",
    "sampling_rate = 100  # 100 samples per second\n",
    "\n",
    "num_samples = 1000  # Total 1000 samples\n",
    "interval_between_samples = 10 / num_samples  # 10 seconds divided by 1000 samples\n",
    "\n",
    "# Generate synthetic data: (timestamp in seconds, biased random 0 or 1)\n",
    "data = []\n",
    "last_one_timestamp = -float('inf')  # Initialize to negative infinity\n",
    "group_size = random.randint(50, 150)  # Randomize the number of consecutive 1s in a group to simulate vibration intensity\n",
    "\n",
    "for i in range(num_samples):\n",
    "    timestamp = i * interval_between_samples\n",
    "    # Ensure 1 occurs only if at least 2 seconds have passed since the last group of 1s\n",
    "    if timestamp - last_one_timestamp >= 2 and random.random() < 0.2:  # 20% chance to start a group of 1s\n",
    "        for _ in range(group_size):\n",
    "            if len(data) < num_samples:  # Ensure we don't exceed the total number of samples\n",
    "                data.append((timestamp, 1))\n",
    "                timestamp += interval_between_samples\n",
    "        last_one_timestamp = timestamp - interval_between_samples\n",
    "    else:\n",
    "        data.append((timestamp, 0))  # Bias towards 0\n",
    "\n",
    "# Write to CSV\n",
    "with open('test_data.csv', 'w', newline='') as csvfile:\n",
    "    writer = csv.writer(csvfile)\n",
    "    writer.writerow(['timestamp', 'value'])\n",
    "    writer.writerows(data)\n",
    "\n",
    "print(\"Sample data saved to 'test_data.csv'\")\n"
   ]
  },
  {
   "cell_type": "code",
   "execution_count": 6,
   "id": "52eac678",
   "metadata": {},
   "outputs": [
    {
     "name": "stdout",
     "output_type": "stream",
     "text": [
      "Reduced data:\n",
      "Timestamp: 0.000000, Value: 1\n",
      "Timestamp: 0.500000, Value: 1\n",
      "Timestamp: 1.000000, Value: 1\n",
      "Timestamp: 1.500000, Value: 1\n",
      "Timestamp: 2.000000, Value: 0\n",
      "Timestamp: 2.500000, Value: 0\n",
      "Timestamp: 3.000000, Value: 0\n",
      "Timestamp: 3.500000, Value: 1\n",
      "Timestamp: 4.000000, Value: 1\n",
      "Timestamp: 4.500000, Value: 1\n",
      "Timestamp: 5.000000, Value: 1\n",
      "Timestamp: 5.500000, Value: 0\n",
      "Timestamp: 6.000000, Value: 0\n",
      "Timestamp: 6.500000, Value: 0\n",
      "Timestamp: 7.000000, Value: 1\n",
      "Timestamp: 7.500000, Value: 0\n",
      "Timestamp: 8.000000, Value: 0\n",
      "Timestamp: 8.500000, Value: 0\n",
      "Timestamp: 9.000000, Value: 0\n",
      "Timestamp: 9.500000, Value: 0\n"
     ]
    }
   ],
   "source": [
    "f = pd.read_csv('test_data.csv', sep=',')\n",
    "#print(f.head())\n",
    "\n",
    "\n",
    "# Reduce resolution to 1 microsecond intervals\n",
    "reduced_data = reduce_resolution(data, interval=0.5)\n",
    "\n",
    "print(\"Reduced data:\")\n",
    "for timestamp, value in reduced_data:\n",
    "    print(f\"Timestamp: {timestamp:.6f}, Value: {value}\")"
   ]
  },
  {
   "cell_type": "code",
   "execution_count": 16,
   "id": "98fb6c8e",
   "metadata": {},
   "outputs": [
    {
     "name": "stdout",
     "output_type": "stream",
     "text": [
      "Accuracy: 0.00, PPV: 0.00\n"
     ]
    },
    {
     "data": {
      "image/png": "[encoded data removed]",
      "text/plain": [
       "<Figure size 640x480 with 2 Axes>"
      ]
     },
     "metadata": {},
     "output_type": "display_data"
    }
   ],
   "source": [
    "matrix = compute_confusion_matrix(reduced_data, reduced_data)\n",
    "accuracy, ppv = compute_metrics(matrix)\n",
    "print(f\"Accuracy: {accuracy:.2f}, PPV: {ppv:.2f}\")\n",
    "\n",
    "# plot confusion matrix\n",
    "\n",
    "sns.heatmap(matrix, annot=True, fmt=\"d\", cmap=\"YlGnBu\", \n",
    "            xticklabels=['Actual 1', 'Actual 0'], \n",
    "            yticklabels=['Predicted 1', 'Predicted 0'])\n",
    "\n",
    "# Annotate each square with TP, FP, FN, TN slightly above the center\n",
    "for i, label in enumerate(['TP', 'FP', 'FN', 'TN']):\n",
    "    plt.text(i % 2 + 0.5, i // 2 + 0.3, label, ha='center', va='center', color='black', fontsize=12)\n",
    "\n",
    "plt.xlabel('Actual')\n",
    "plt.ylabel('Predicted')\n",
    "plt.title('Confusion Matrix')\n",
    "plt.show()\n",
    "\n"
   ]
  },
  {
   "cell_type": "code",
   "execution_count": null,
   "id": "facc51b4",
   "metadata": {},
   "outputs": [],
   "source": []
  }
 ],
 "metadata": {
  "kernelspec": {
   "display_name": "trc3500",
   "language": "python",
   "name": "python3"
  },
  "language_info": {
   "codemirror_mode": {
    "name": "ipython",
    "version": 3
   },
   "file_extension": ".py",
   "mimetype": "text/x-python",
   "name": "python",
   "nbconvert_exporter": "python",
   "pygments_lexer": "ipython3",
   "version": "3.13.2"
  }
 },
 "nbformat": 4,
 "nbformat_minor": 5
}
